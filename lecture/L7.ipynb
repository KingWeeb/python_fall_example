{
 "cells": [
  {
   "cell_type": "code",
   "execution_count": 16,
   "metadata": {},
   "outputs": [],
   "source": [
    "import matplotlib.pyplot as plt\n",
    "\n",
    "\n",
    "class ChatBot:\n",
    "\n",
    "    user_dict = {}\n",
    "\n",
    "    def __init__(self, name, birth_year):\n",
    "        self.name = name\n",
    "        self.birth_year = birth_year\n",
    "        self.test_score = 1\n",
    "        \n",
    "\n",
    "    def greet(self):\n",
    "        print(f'Hello! My name is {self.name}.')\n",
    "        print(f'I was created in {self.birth_year}.')\n",
    "\n",
    "    def remind_name(self):\n",
    "        print('Please, remind me your name.')\n",
    "        self.name = input()\n",
    "        print(f'What a great name you have, {self.name}!')\n",
    "        \n",
    "        \n",
    "        \n",
    "\n",
    "    def guess_age(self):\n",
    "        print('Let me guess your age.')\n",
    "        print('Enter remainders of dividing your age by 3, 5 and 7.')\n",
    "\n",
    "        rem3 = int(input())\n",
    "        rem5 = int(input())\n",
    "        rem7 = int(input())\n",
    "        age = (rem3 * 70 + rem5 * 21 + rem7 * 15) % 105\n",
    "\n",
    "        print(f\"Your age is {age}; that's a good time to start programming!\")\n",
    "\n",
    "    def count(self):\n",
    "        print('Now I will prove to you that I can count to any number you want.')\n",
    "\n",
    "        num = int(input())\n",
    "        curr = 0\n",
    "        while curr <= num:\n",
    "            print(curr, '!')\n",
    "            curr = curr + 1\n",
    "\n",
    "    def test(self):\n",
    "\n",
    "        print(\"Let's test your programming knowledge.\")\n",
    "        print(\"Why do we use methods?\")\n",
    "        print(\"1. To repeat a statement multiple times.\")\n",
    "        print(\"2. To decompose a program into several small subroutines.\")\n",
    "        print(\"3. To determine the execution time of a program.\")\n",
    "        print(\"4. To interrupt the execution of a program.\")\n",
    "        while True:\n",
    "            \n",
    "            answer = int(input())\n",
    "            if answer == 2:\n",
    "              ChatBot.user_dict[self.name] = self.test_score\n",
    "              break\n",
    "            else:\n",
    "                print(\"Please, try again.\")\n",
    "                self.test_score = self.test_score - 0.1\n",
    "\n",
    "        print('Completed, have a nice day!')\n",
    "\n",
    "    def graph(self):\n",
    "        \n",
    "        plt.plot([keys for keys in ChatBot.user_dict.keys()], [values for values in ChatBot.user_dict.values()])\n",
    "        plt.show()\n",
    "\n",
    "    def run(self):\n",
    "        self.greet()\n",
    "        self.remind_name()\n",
    "        self.guess_age()\n",
    "        self.count()\n",
    "        self.test()\n",
    "        self.graph()\n",
    "        # self.end()"
   ]
  },
  {
   "cell_type": "code",
   "execution_count": null,
   "metadata": {},
   "outputs": [],
   "source": [
    "ChatBot('bot1', '2022').run()\n",
    "# ChatBot('bot2', '2022').run()"
   ]
  },
  {
   "cell_type": "code",
   "execution_count": 18,
   "metadata": {},
   "outputs": [
    {
     "data": {
      "text/plain": [
       "{'peter': 1}"
      ]
     },
     "execution_count": 18,
     "metadata": {},
     "output_type": "execute_result"
    }
   ],
   "source": [
    "ChatBot.user_dict"
   ]
  }
 ],
 "metadata": {
  "kernelspec": {
   "display_name": "Python 3.9.13 ('cov')",
   "language": "python",
   "name": "python3"
  },
  "language_info": {
   "codemirror_mode": {
    "name": "ipython",
    "version": 3
   },
   "file_extension": ".py",
   "mimetype": "text/x-python",
   "name": "python",
   "nbconvert_exporter": "python",
   "pygments_lexer": "ipython3",
   "version": "3.9.13"
  },
  "orig_nbformat": 4,
  "vscode": {
   "interpreter": {
    "hash": "6f36b79d7a8a7815ded44fea8921e930581701a037056ac38129bf2cc427d02b"
   }
  }
 },
 "nbformat": 4,
 "nbformat_minor": 2
}
