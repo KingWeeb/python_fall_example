{
 "cells": [
  {
   "cell_type": "markdown",
   "metadata": {},
   "source": [
    "simple chat bot"
   ]
  },
  {
   "cell_type": "markdown",
   "metadata": {},
   "source": [
    "a crude implementation"
   ]
  },
  {
   "cell_type": "markdown",
   "metadata": {},
   "source": [
    "**sample output:**  \n",
    "  \n",
    "  \n",
    "Hello! My name is bot.  \n",
    "I was created in 2022.  \n",
    "Please, remind me your name.  \n",
    "What a great name you have, some name!  \n",
    "Let me guess your age.  \n",
    "Enter remainders of dividing your age by 3, 5 and 7.  \n",
    "Your age is 10; that's a good time to start programming!  \n",
    "Now I will prove to you that I can count to any number you want.  \n",
    "0 !  \n",
    "1 !  \n",
    "Let's test your programming knowledge.  \n",
    "Why do we use methods?  \n",
    "1. To repeat a statement multiple times.  \n",
    "2. To decompose a program into several small subroutines.  \n",
    "3. To determine the execution time of a program.  \n",
    "4. To interrupt the execution of a program.  \n",
    "Please, try again.  \n",
    "Completed, have a nice day!  \n",
    "Congratulations, have a nice day!  "
   ]
  },
  {
   "cell_type": "code",
   "execution_count": 8,
   "metadata": {},
   "outputs": [
    {
     "name": "stdout",
     "output_type": "stream",
     "text": [
      "Hello! My name is bot.\n",
      "I was created in 2022 bot 2022.\n"
     ]
    }
   ],
   "source": [
    "def greet(bot_name, year):\n",
    "    print('Hello! My name is ' + bot_name + '.')\n",
    "    print(f'I was created in {year}.')\n",
    "    return bot_name, year\n",
    "\n",
    "bot_name, year = greet('bot', 2022)"
   ]
  },
  {
   "cell_type": "code",
   "execution_count": 9,
   "metadata": {},
   "outputs": [],
   "source": [
    "#guess_age() is provided\n",
    "def guess_age(bot_name):\n",
    "    print('Let me guess your age.')\n",
    "    print('Enter remainders of dividing your age by 3, 5 and 7.')\n",
    "\n",
    "    rem3 = int(input())\n",
    "    rem5 = int(input())\n",
    "    rem7 = int(input())\n",
    "    age = (rem3 * 70 + rem5 * 21 + rem7 * 15) % 105\n",
    "\n",
    "    print(f\"Your age is {age}; that's a good time to start programming!\")"
   ]
  },
  {
   "cell_type": "code",
   "execution_count": 10,
   "metadata": {},
   "outputs": [
    {
     "name": "stdout",
     "output_type": "stream",
     "text": [
      "Hello! My name is bot.\n",
      "I was created in 2022 bot 2022.\n",
      "Let me guess your age.\n",
      "Enter remainders of dividing your age by 3, 5 and 7.\n",
      "Your age is 10; that's a good time to start programming!\n"
     ]
    }
   ],
   "source": [
    "greet('bot', 2022) \n",
    "guess_age()"
   ]
  },
  {
   "cell_type": "markdown",
   "metadata": {},
   "source": [
    "now we need to move these functions into a class"
   ]
  },
  {
   "cell_type": "code",
   "execution_count": 11,
   "metadata": {},
   "outputs": [
    {
     "name": "stdout",
     "output_type": "stream",
     "text": [
      "Hello! My name is bot1.\n",
      "I was created in 2022.\n",
      "Let me guess your age.\n",
      "Enter remainders of dividing your age by 3, 5 and 7.\n",
      "Your age is 10; that's a good time to start programming!\n"
     ]
    }
   ],
   "source": [
    "class ChatBot:\n",
    "\n",
    "    def __init__(self, name, birth_year):\n",
    "        self.name = name\n",
    "        self.birth_year = birth_year\n",
    "\n",
    "    def greet(self):\n",
    "        print(f'Hello! My name is {self.name}.')\n",
    "        print(f'I was created in {self.birth_year}.')\n",
    "        \n",
    "    def guess_age(self):\n",
    "        print('Let me guess your age.')\n",
    "        print('Enter remainders of dividing your age by 3, 5 and 7.')\n",
    "\n",
    "        rem3 = int(input())\n",
    "        rem5 = int(input()) \n",
    "        rem7 = int(input())\n",
    "        age = (rem3 * 70 + rem5 * 21 + rem7 * 15) % 105\n",
    "\n",
    "        print(f\"Your age is {age}; that's a good time to start programming!\")\n",
    "\n",
    "    def run(self):\n",
    "        self.greet()\n",
    "        self.guess_age()\n",
    "\n",
    "bot1 = ChatBot('bot1', 2022)\n",
    "bot1.run()\n"
   ]
  }
 ],
 "metadata": {
  "kernelspec": {
   "display_name": "Python 3.9.13 ('base')",
   "language": "python",
   "name": "python3"
  },
  "language_info": {
   "codemirror_mode": {
    "name": "ipython",
    "version": 3
   },
   "file_extension": ".py",
   "mimetype": "text/x-python",
   "name": "python",
   "nbconvert_exporter": "python",
   "pygments_lexer": "ipython3",
   "version": "3.9.13"
  },
  "orig_nbformat": 4,
  "vscode": {
   "interpreter": {
    "hash": "a6efb1b5c0b24a2e2c6a7775ceb8b8e57e283a2a8ce9c098a6d10d53a2042136"
   }
  }
 },
 "nbformat": 4,
 "nbformat_minor": 2
}
