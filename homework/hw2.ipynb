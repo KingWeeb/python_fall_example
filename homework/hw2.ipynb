{
 "cells": [
  {
   "cell_type": "markdown",
   "metadata": {},
   "source": [
    "Q1  \n",
    "write a function with that takes 3 user input lists as its arguments and concatenates them into a single list. The function should return the concatenated list.\n"
   ]
  },
  {
   "cell_type": "markdown",
   "metadata": {},
   "source": [
    "Q2  \n",
    "defien a dictionary of your choosing, then write a function that takes the dictionary as an argument and prints out all key values pairs in the dictionary.\n"
   ]
  },
  {
   "cell_type": "markdown",
   "metadata": {},
   "source": [
    "Q3 (optional)  \n",
    "write a function with a nested loop that finds the 2 biggest numbers from a user input list of numbers, then print out the product of the 2 numbers."
   ]
  }
 ],
 "metadata": {
  "language_info": {
   "name": "python"
  },
  "orig_nbformat": 4
 },
 "nbformat": 4,
 "nbformat_minor": 2
}
