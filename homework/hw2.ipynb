{
 "cells": [
  {
   "cell_type": "markdown",
   "metadata": {},
   "source": [
    "Q1  \n",
    "write a function that takes 3 user input lists and concatenates them into a single list. The function should return the concatenated list.\n"
   ]
  },
  {
   "cell_type": "code",
   "execution_count": 5,
   "metadata": {},
   "outputs": [
    {
     "name": "stdout",
     "output_type": "stream",
     "text": [
      "['list1element1', 'list1element2', 'list2element1', 'list3element1']\n"
     ]
    }
   ],
   "source": [
    "def concat():\n",
    "\n",
    "    user_input_list = []\n",
    "\n",
    "    for i in range(0, 3):\n",
    "         user_input_list.append(list(\n",
    "                input(\"Enter a list \").split())\n",
    "                )\n",
    "    print(user_input_list[0] + user_input_list[1] + user_input_list[2])\n",
    "\n",
    "concat()"
   ]
  },
  {
   "cell_type": "markdown",
   "metadata": {},
   "source": [
    "Q2  \n",
    "define a dictionary of your choosing, then write a function that takes the dictionary as an argument and prints out all key values pairs in the dictionary.\n"
   ]
  },
  {
   "cell_type": "code",
   "execution_count": 6,
   "metadata": {},
   "outputs": [
    {
     "name": "stdout",
     "output_type": "stream",
     "text": [
      "a 1\n",
      "b 2\n",
      "c 3\n"
     ]
    }
   ],
   "source": [
    "def print_out_key_values(dict_1):\n",
    "\n",
    "    for key, value in dict_1.items():\n",
    "        print(key, value)\n",
    "\n",
    "print_out_key_values({'a': 1, 'b': 2, 'c': 3})\n"
   ]
  },
  {
   "cell_type": "markdown",
   "metadata": {},
   "source": [
    "Q3 (optional)  \n",
    "write a function with a loop that finds the 2 biggest numbers from a user input list of numbers, then print out the product of the 2 numbers."
   ]
  },
  {
   "cell_type": "code",
   "execution_count": 10,
   "metadata": {},
   "outputs": [
    {
     "name": "stdout",
     "output_type": "stream",
     "text": [
      "99900\n"
     ]
    }
   ],
   "source": [
    "def maximum_pairwise_product(list_1):\n",
    "\n",
    "    big_0 = list_1[0]\n",
    "    big_1 = list_1[0]\n",
    "\n",
    "    for number in list_1:\n",
    "        if number > big_0:\n",
    "            big_1 = big_0\n",
    "            big_0 = number\n",
    "        elif number > big_1 or big_0 == big_1:\n",
    "            big_1 = number\n",
    "\n",
    "\n",
    "        \n",
    "    return big_0 * big_1\n",
    "\n",
    "print(maximum_pairwise_product([999, 5, 6, 89, 100]))\n",
    "\n"
   ]
  },
  {
   "cell_type": "code",
   "execution_count": 17,
   "metadata": {},
   "outputs": [
    {
     "name": "stdout",
     "output_type": "stream",
     "text": [
      "99900\n"
     ]
    }
   ],
   "source": [
    "def maximum_pairwise_product_2(list_1):\n",
    "\n",
    "    max_prod = list_1[0] * list_1[1]\n",
    "\n",
    "\n",
    "    for number_1 in list_1:\n",
    "        for number_2 in list_1:\n",
    "            \n",
    "            if number_1 * number_2 > max_prod and number_1 != number_2:\n",
    "                max_prod = number_1 * number_2\n",
    "                # print(\"num :\", number_1, number_2, max_prod)\n",
    "\n",
    "\n",
    "    return max_prod\n",
    "    \n",
    "\n",
    "print(maximum_pairwise_product_2([999, 5, 6, 89, 100]))"
   ]
  },
  {
   "cell_type": "code",
   "execution_count": 23,
   "metadata": {},
   "outputs": [
    {
     "name": "stdout",
     "output_type": "stream",
     "text": [
      "99900\n"
     ]
    }
   ],
   "source": [
    "def maximum_pairwise_product_3(list_1):\n",
    "\n",
    "    list_1.sort()\n",
    "\n",
    "    print(list_1[-1] * list_1[-2])\n",
    "    \n",
    "\n",
    "maximum_pairwise_product_3([999, 5, 6, 89, 100])"
   ]
  }
 ],
 "metadata": {
  "kernelspec": {
   "display_name": "Python 3.9.12 ('base')",
   "language": "python",
   "name": "python3"
  },
  "language_info": {
   "codemirror_mode": {
    "name": "ipython",
    "version": 3
   },
   "file_extension": ".py",
   "mimetype": "text/x-python",
   "name": "python",
   "nbconvert_exporter": "python",
   "pygments_lexer": "ipython3",
   "version": "3.9.12"
  },
  "orig_nbformat": 4,
  "vscode": {
   "interpreter": {
    "hash": "a6efb1b5c0b24a2e2c6a7775ceb8b8e57e283a2a8ce9c098a6d10d53a2042136"
   }
  }
 },
 "nbformat": 4,
 "nbformat_minor": 2
}
