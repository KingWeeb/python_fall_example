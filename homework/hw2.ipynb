{
 "cells": [
  {
   "cell_type": "markdown",
   "metadata": {},
   "source": [
    "Q1  \n",
    "write a function with that takes 3 user input lists as its arguments and concatenates them into a single list. The function should return the concatenated list.\n"
   ]
  },
  {
   "cell_type": "markdown",
   "metadata": {},
   "source": [
    "Q2  \n",
    "defien a dictionary of your choosing, then write a function that takes the dictionary as an argument and prints out all key values pairs in the dictionary.\n"
   ]
  },
  {
   "cell_type": "markdown",
   "metadata": {},
   "source": [
    "Q3 (optional)  \n",
    "write a function with a loop that finds the 2 biggest numbers from a user input list of numbers, then print out the product of the 2 numbers."
   ]
  }
 ],
 "metadata": {
  "kernelspec": {
   "display_name": "Python 3.9.12 ('base')",
   "language": "python",
   "name": "python3"
  },
  "language_info": {
   "codemirror_mode": {
    "name": "ipython",
    "version": 3
   },
   "file_extension": ".py",
   "mimetype": "text/x-python",
   "name": "python",
   "nbconvert_exporter": "python",
   "pygments_lexer": "ipython3",
   "version": "3.9.12"
  },
  "orig_nbformat": 4,
  "vscode": {
   "interpreter": {
    "hash": "a6efb1b5c0b24a2e2c6a7775ceb8b8e57e283a2a8ce9c098a6d10d53a2042136"
   }
  }
 },
 "nbformat": 4,
 "nbformat_minor": 2
}
