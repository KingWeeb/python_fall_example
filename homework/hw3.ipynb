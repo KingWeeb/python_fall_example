{
  "cells": [
    {
      "cell_type": "markdown",
      "metadata": {
        "id": "nQzLitiGJwz5"
      },
      "source": [
        "Q1  \n",
        "define a class called \"Human\" that includes more than 3 class attributes, and also use constructor to define more than 3 instance attributes. Finally define 2 instances, say Amy and Jhon.\n"
      ]
    },
    {
      "cell_type": "markdown",
      "metadata": {
        "id": "m4uDc9Ua-5O9"
      },
      "source": [
        "Q2   \n",
        "define a class called `Point` that has two instance attributes `x` and `y` that are initialized to 0.0\n"
      ]
    },
    {
      "cell_type": "code",
      "execution_count": null,
      "metadata": {
        "id": "rJKenGHkJwz7"
      },
      "outputs": [],
      "source": []
    },
    {
      "cell_type": "markdown",
      "metadata": {
        "id": "vsWqSb4oJwz8"
      },
      "source": [
        "Q3 (Optional)  \n",
        "add an instance method `distance to (0, 0)` to the `Point` class that returns the distance of the point from the origin (0, 0), the formula is $\\sqrt{x^2 + y^2}$, the python code for this formula is \n",
        "\n",
        "`import math`   \n",
        "`math.sqrt(x**2 + y**2)`\n"
      ]
    },
    {
      "cell_type": "code",
      "execution_count": null,
      "metadata": {
        "id": "vyta9MmRJwz8"
      },
      "outputs": [],
      "source": []
    },
    {
      "cell_type": "markdown",
      "metadata": {
        "id": "-gBwEODtJwz8"
      },
      "source": [
        "Q4 (optional)  \n",
        "add a static method using the `@staticmethod` decorator that takes two `Point` objects as arguments and returns the distance between them, the formula is $\\sqrt{(x_1 - x_2)^2 + (y_1 - y_2)^2}$  \n",
        "if you dont know what a `decorator` is and how it works, you can read about it [here](https://realpython.com/primer-on-python-decorators/)  \n",
        "dont worry if you dont understand it, you can just skip this question"
      ]
    },
    {
      "cell_type": "code",
      "execution_count": null,
      "metadata": {
        "id": "bzCJYxzQJwz9"
      },
      "outputs": [],
      "source": []
    }
  ],
  "metadata": {
    "colab": {
      "provenance": []
    },
    "kernelspec": {
      "display_name": "Python 3.9.12 ('base')",
      "language": "python",
      "name": "python3"
    },
    "language_info": {
      "name": "python",
      "version": "3.9.13"
    },
    "orig_nbformat": 4,
    "vscode": {
      "interpreter": {
        "hash": "a6efb1b5c0b24a2e2c6a7775ceb8b8e57e283a2a8ce9c098a6d10d53a2042136"
      }
    }
  },
  "nbformat": 4,
  "nbformat_minor": 0
}
