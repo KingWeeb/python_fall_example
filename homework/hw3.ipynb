{
  "cells": [
    {
      "cell_type": "markdown",
      "metadata": {
        "id": "nQzLitiGJwz5"
      },
      "source": [
        "Q1  \n",
        "define a class called \"Human\" that includes more than 3 class attributes, and also use constructor to define more than 3 instance attributes. Finally define 2 instances, say Amy and Jhon.\n"
      ]
    },
    {
      "cell_type": "code",
      "execution_count": 1,
      "metadata": {},
      "outputs": [],
      "source": [
        "class Human:\n",
        "\n",
        "    is_intelligent = True\n",
        "    drinks_water = True\n",
        "    requires_food = True\n",
        "    is_car = False\n",
        "\n",
        "    def __init__(self, name, age, is_python_master) -> None:\n",
        "        self.name = name\n",
        "        self.age = age\n",
        "        self.is_python_master = is_python_master\n",
        "\n",
        "Amy = Human(\"Amy\", 96, True)\n",
        "Jhon = Human(\"Jhon\", 3, False)"
      ]
    },
    {
      "cell_type": "markdown",
      "metadata": {
        "id": "m4uDc9Ua-5O9"
      },
      "source": [
        "Q2   \n",
        "define a class called `Point` that has two instance attributes `x` and `y` that are initialized to 0.0\n"
      ]
    },
    {
      "cell_type": "code",
      "execution_count": 2,
      "metadata": {
        "id": "rJKenGHkJwz7"
      },
      "outputs": [],
      "source": [
        "class Point:\n",
        "\n",
        "    def __init__(self) -> None:\n",
        "        self.x = 0\n",
        "        self.y = 0"
      ]
    },
    {
      "cell_type": "markdown",
      "metadata": {
        "id": "vsWqSb4oJwz8"
      },
      "source": [
        "Q3 (Optional)  \n",
        "add an instance method `distance to (0, 0)` to the `Point` class that returns the distance of the point from the origin (0, 0), the formula is $\\sqrt{x^2 + y^2}$, the python code for this formula is \n",
        "\n",
        "`import math`   \n",
        "`math.sqrt(x**2 + y**2)`\n"
      ]
    },
    {
      "cell_type": "code",
      "execution_count": 3,
      "metadata": {
        "id": "vyta9MmRJwz8"
      },
      "outputs": [
        {
          "name": "stdout",
          "output_type": "stream",
          "text": [
            "5.0\n"
          ]
        }
      ],
      "source": [
        "class Point:\n",
        "\n",
        "    def __init__(self) -> None:\n",
        "        self.x = 0\n",
        "        self.y = 0\n",
        "    \n",
        "    def distance_to_origin(self):\n",
        "        return (self.x ** 2 + self.y ** 2) ** 0.5\n",
        "\n",
        "p1 = Point()\n",
        "p1.x = 3\n",
        "p1.y = 4\n",
        "print(p1.distance_to_origin())"
      ]
    },
    {
      "cell_type": "markdown",
      "metadata": {
        "id": "-gBwEODtJwz8"
      },
      "source": [
        "Q4 (optional)  \n",
        "add a static method using the `@staticmethod` decorator that takes two `Point` objects as arguments and returns the distance between them, the formula is $\\sqrt{(x_1 - x_2)^2 + (y_1 - y_2)^2}$  \n",
        "if you dont know what a `decorator` is and how it works, you can read about it [here](https://realpython.com/primer-on-python-decorators/)  \n",
        "dont worry if you dont understand it, you can just skip this question"
      ]
    },
    {
      "cell_type": "code",
      "execution_count": 4,
      "metadata": {
        "id": "bzCJYxzQJwz9"
      },
      "outputs": [
        {
          "name": "stdout",
          "output_type": "stream",
          "text": [
            "4.242640687119285\n"
          ]
        }
      ],
      "source": [
        "class Point:\n",
        "\n",
        "    def __init__(self) -> None:\n",
        "        self.x = 0\n",
        "        self.y = 0\n",
        "    \n",
        "    def distance_to_origin(self):\n",
        "        return (self.x ** 2 + self.y ** 2) ** 0.5\n",
        "\n",
        "    @staticmethod\n",
        "    def distance(p1, p2):\n",
        "        return ((p1.x - p2.x) ** 2 + (p1.y - p2.y) ** 2) ** 0.5\n",
        "\n",
        "p1 = Point()\n",
        "p1.x = 3\n",
        "p1.y = 4\n",
        "p2 = Point()\n",
        "p2.x = 6\n",
        "p2.y = 7\n",
        "print(Point.distance(p1, p2))"
      ]
    }
  ],
  "metadata": {
    "colab": {
      "provenance": []
    },
    "kernelspec": {
      "display_name": "Python 3.9.12 ('base')",
      "language": "python",
      "name": "python3"
    },
    "language_info": {
      "codemirror_mode": {
        "name": "ipython",
        "version": 3
      },
      "file_extension": ".py",
      "mimetype": "text/x-python",
      "name": "python",
      "nbconvert_exporter": "python",
      "pygments_lexer": "ipython3",
      "version": "3.9.13"
    },
    "orig_nbformat": 4,
    "vscode": {
      "interpreter": {
        "hash": "a6efb1b5c0b24a2e2c6a7775ceb8b8e57e283a2a8ce9c098a6d10d53a2042136"
      }
    }
  },
  "nbformat": 4,
  "nbformat_minor": 0
}
