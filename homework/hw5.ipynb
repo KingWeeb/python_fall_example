{
 "cells": [
  {
   "cell_type": "markdown",
   "metadata": {},
   "source": [
    "Add more features/funtionalities to our `ChatBot` class. We will add the following features:\n",
    "* add a new instance method in which `ChatBot` will be able to respond to a user's input with a random response from a list of responses.\n",
    "* add a new class attribute to keep track of the number of times the `ChatBot` has been used."
   ]
  },
  {
   "cell_type": "markdown",
   "metadata": {},
   "source": []
  }
 ],
 "metadata": {
  "language_info": {
   "name": "python"
  },
  "orig_nbformat": 4
 },
 "nbformat": 4,
 "nbformat_minor": 2
}
