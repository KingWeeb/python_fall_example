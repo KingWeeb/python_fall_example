{
 "cells": [
  {
   "cell_type": "markdown",
   "metadata": {},
   "source": [
    "Add more features/funtionalities to our `ChatBot` class. We will add the following features:\n",
    "* add a new instance method in which `ChatBot` will be able to respond to a user's input with a random response from a list of responses.\n",
    "* (optional) add a new class attribute to keep track of the number of times the `ChatBot` has been used."
   ]
  },
  {
   "cell_type": "code",
   "execution_count": null,
   "metadata": {
    "collapsed": false
   },
   "outputs": [],
   "source": [
    "import numpy as np\n",
    "\n",
    "\n",
    "class ChatBot:\n",
    "\n",
    "    times_called = 0\n",
    "\n",
    "    def __init__(self, name, birth_year):\n",
    "        self.name = name\n",
    "        self.birth_year = birth_year\n",
    "\n",
    "    def greet(self):\n",
    "        print(f'Hello! My name is {self.name}.')\n",
    "        print(f'I was created in {self.birth_year}.')\n",
    "\n",
    "    def guess_age(self):\n",
    "        print('Let me guess your age.')\n",
    "        print('Enter remainders of dividing your age by 3, 5 and 7.')\n",
    "\n",
    "        rem3 = int(input())\n",
    "        rem5 = int(input())\n",
    "        rem7 = int(input())\n",
    "        age = (rem3 * 70 + rem5 * 21 + rem7 * 15) % 105\n",
    "\n",
    "        print(f\"Your age is {age}; that's a good time to start programming!\")\n",
    "\n",
    "    def random_response(self):\n",
    "        user_input = int(input(\"Enter an integer: \"))\n",
    "        response_list = np.random.rand(1, user_input)\n",
    "        print(response_list[np.random.randint(0, len(response_list))])\n",
    "\n",
    "    def run(self):\n",
    "        self.greet()\n",
    "        self.guess_age()\n",
    "        self.random_response()\n",
    "        ChatBot.times_called += 1\n",
    "        print(f\"ChatBot has been called {ChatBot.times_called} times.\")\n",
    "\n",
    "bot1 = ChatBot('bot1', 2022)\n",
    "bot1.run()\n",
    "\n"
   ]
  }
 ],
 "metadata": {
  "kernelspec": {
   "display_name": "Python 3.9.13 ('base')",
   "language": "python",
   "name": "python3"
  },
  "language_info": {
   "codemirror_mode": {
    "name": "ipython",
    "version": 3
   },
   "file_extension": ".py",
   "mimetype": "text/x-python",
   "name": "python",
   "nbconvert_exporter": "python",
   "pygments_lexer": "ipython3",
   "version": "3.9.13"
  },
  "orig_nbformat": 4,
  "vscode": {
   "interpreter": {
    "hash": "a6efb1b5c0b24a2e2c6a7775ceb8b8e57e283a2a8ce9c098a6d10d53a2042136"
   }
  }
 },
 "nbformat": 4,
 "nbformat_minor": 2
}
