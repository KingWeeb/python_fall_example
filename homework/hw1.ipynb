{
 "cells": [
  {
   "cell_type": "markdown",
   "metadata": {},
   "source": [
    "Q1  \n",
    "a. define an int, a float, a string, a boolean, a list and a dictionary and assign them to different variables  \n",
    "b. print out each variable  \n",
    "c. print out the type of each variable  \n",
    "d. cast the int into a string and print it out, then concatenate the string with the casted int and print out the result  \n",
    "e. cast the float into an int and print it out  \n",
    "g. cast the boolean into a float and print it out  \n",
    "h. append new items to the end of the list and print it out  \n",
    "i. remove the first item of the list and print it out  \n",
    "j. remove the last item of the list and print it out  \n",
    "k. remove the item at index 2 of the list and print it out  \n",
    "l. slice the list and print out the slice  \n",
    "m. add new key, value pairs to the dictionary and print it out  \n",
    "n. remove a key, value pair from the dictionary by key using `.pop()` and print it out  "
   ]
  },
  {
   "cell_type": "code",
   "execution_count": 8,
   "metadata": {},
   "outputs": [],
   "source": [
    "#a\n",
    "integer_1 = 1\n",
    "float_1 = 1.0\n",
    "boolean_1 =  True\n",
    "list_1 = [1, 2, 3, 4, 5]\n",
    "dict_1 = {'a': 1, 'b': 2, 'c': 3}\n"
   ]
  },
  {
   "cell_type": "code",
   "execution_count": 3,
   "metadata": {},
   "outputs": [
    {
     "name": "stdout",
     "output_type": "stream",
     "text": [
      "1 1.0 True [1, 2, 3] {'a': 1, 'b': 2, 'c': 3}\n"
     ]
    }
   ],
   "source": [
    "#b\n",
    "print(integer, float, boolean, list_1, dict_1)"
   ]
  },
  {
   "cell_type": "code",
   "execution_count": 4,
   "metadata": {},
   "outputs": [
    {
     "name": "stdout",
     "output_type": "stream",
     "text": [
      "<class 'int'> <class 'float'> <class 'bool'> <class 'list'> <class 'dict'>\n"
     ]
    }
   ],
   "source": [
    "#c\n",
    "print(type(integer), type(float), type(boolean), type(list_1), type(dict_1))"
   ]
  },
  {
   "cell_type": "code",
   "execution_count": 6,
   "metadata": {},
   "outputs": [
    {
     "name": "stdout",
     "output_type": "stream",
     "text": [
      "1\n",
      "1string1\n"
     ]
    }
   ],
   "source": [
    "#d\n",
    "print(str(integer))\n",
    "print(str(integer) + \"string1\")"
   ]
  },
  {
   "cell_type": "code",
   "execution_count": 7,
   "metadata": {},
   "outputs": [
    {
     "name": "stdout",
     "output_type": "stream",
     "text": [
      "1\n"
     ]
    }
   ],
   "source": [
    "#e\n",
    "print(int(float))"
   ]
  },
  {
   "cell_type": "code",
   "execution_count": 2,
   "metadata": {},
   "outputs": [
    {
     "name": "stdout",
     "output_type": "stream",
     "text": [
      "1.0\n"
     ]
    }
   ],
   "source": [
    "#f\n",
    "print(float(boolean_1))"
   ]
  },
  {
   "cell_type": "code",
   "execution_count": 3,
   "metadata": {},
   "outputs": [
    {
     "name": "stdout",
     "output_type": "stream",
     "text": [
      "[1, 2, 3, 4]\n"
     ]
    }
   ],
   "source": [
    "#h\n",
    "list_1.append(4)\n",
    "print(list_1)"
   ]
  },
  {
   "cell_type": "code",
   "execution_count": 4,
   "metadata": {},
   "outputs": [
    {
     "name": "stdout",
     "output_type": "stream",
     "text": [
      "[2, 3, 4]\n"
     ]
    }
   ],
   "source": [
    "#i\n",
    "list_1.pop(0)\n",
    "print(list_1)"
   ]
  },
  {
   "cell_type": "code",
   "execution_count": 5,
   "metadata": {},
   "outputs": [
    {
     "name": "stdout",
     "output_type": "stream",
     "text": [
      "[2, 3]\n"
     ]
    }
   ],
   "source": [
    "#j\n",
    "list_1.pop(-1)\n",
    "print(list_1)"
   ]
  },
  {
   "cell_type": "code",
   "execution_count": 7,
   "metadata": {},
   "outputs": [
    {
     "name": "stdout",
     "output_type": "stream",
     "text": [
      "[1, 2]\n"
     ]
    }
   ],
   "source": [
    "#k\n",
    "list_1.pop(2)\n",
    "print(list_1)"
   ]
  },
  {
   "cell_type": "code",
   "execution_count": 9,
   "metadata": {},
   "outputs": [
    {
     "name": "stdout",
     "output_type": "stream",
     "text": [
      "[2, 3]\n"
     ]
    }
   ],
   "source": [
    "#l\n",
    "print(list_1[1:3])"
   ]
  },
  {
   "cell_type": "code",
   "execution_count": 11,
   "metadata": {},
   "outputs": [
    {
     "name": "stdout",
     "output_type": "stream",
     "text": [
      "{'a': 1, 'b': 2, 'c': 3, 'd': 4}\n",
      "{'a': 1, 'b': 2, 'c': 3, 'd': 5}\n"
     ]
    }
   ],
   "source": [
    "#m\n",
    "dict_1['d'] = 4\n",
    "print(dict_1)\n",
    "dict_1[\"d\"] = 5\n",
    "print(dict_1)"
   ]
  },
  {
   "cell_type": "code",
   "execution_count": 12,
   "metadata": {},
   "outputs": [
    {
     "data": {
      "text/plain": [
       "1"
      ]
     },
     "execution_count": 12,
     "metadata": {},
     "output_type": "execute_result"
    }
   ],
   "source": [
    "#n\n",
    "dict_1.pop('a')"
   ]
  },
  {
   "cell_type": "code",
   "execution_count": 13,
   "metadata": {},
   "outputs": [
    {
     "name": "stdout",
     "output_type": "stream",
     "text": [
      "{'b': 2, 'c': 3, 'd': 5}\n"
     ]
    }
   ],
   "source": [
    "print(dict_1)"
   ]
  },
  {
   "cell_type": "markdown",
   "metadata": {},
   "source": [
    "Q2  \n",
    "write an if elif else statement that checks if the user is older than 18 and prints \"You are old enough to vote\" if they are older than 18, otherwise print \"You are not old enough to vote\" and if the user is older than 18 and is a student, print \"You are old enough and a student to vote\"  \n",
    "\n"
   ]
  },
  {
   "cell_type": "code",
   "execution_count": null,
   "metadata": {},
   "outputs": [],
   "source": [
    "\"You are old enough to vote\"\n",
    "\"You are not old enough to vote\"\n",
    "\"You are old enough and a student to vote\""
   ]
  },
  {
   "cell_type": "code",
   "execution_count": 15,
   "metadata": {},
   "outputs": [
    {
     "name": "stdout",
     "output_type": "stream",
     "text": [
      "You are not old enough to vote\n"
     ]
    }
   ],
   "source": [
    "#Q2\n",
    "\n",
    "user_age = int(input(\"Enter your age: \"))\n",
    "is_student = input(\"Are you a student? (Y/N): \")\n",
    "\n",
    "if user_age >= 18:\n",
    "    if is_student == \"Y\":\n",
    "        print(\"You are old enough and a student to vote\")\n",
    "    else:\n",
    "        print(\"You are old enough to vote\")\n",
    "else:\n",
    "    print(\"You are not old enough to vote\")"
   ]
  },
  {
   "cell_type": "markdown",
   "metadata": {},
   "source": [
    "\n",
    "\n",
    "\n",
    "Q3 (optional)  \n",
    "create a dictionary  \n",
    "\n",
    "write an if elif else statement that adds user input key value(each value should be a list or another dictionary) pairs to the dictionary based on certain conditions, if conditions are met then add the pair if not then do not add.\n",
    "\n"
   ]
  },
  {
   "cell_type": "code",
   "execution_count": 21,
   "metadata": {},
   "outputs": [
    {
     "name": "stdout",
     "output_type": "stream",
     "text": [
      "['9', '5', '6']\n",
      "True\n"
     ]
    }
   ],
   "source": [
    "#Q3\n",
    "\n",
    "generic_dict_1 = {'a': 1, 'b': 2, 'c': 3}\n",
    "\n",
    "\n",
    "user_list = list(input(\"Enter a list of numbers: \").split())\n",
    "print(user_list)\n",
    "\n",
    "if user_list[0] == \"9\":\n",
    "    print(\"True\")\n",
    "    generic_dict_1[\"d\"] = user_list\n"
   ]
  },
  {
   "cell_type": "code",
   "execution_count": 22,
   "metadata": {},
   "outputs": [
    {
     "name": "stdout",
     "output_type": "stream",
     "text": [
      "{'a': 1, 'b': 2, 'c': 3, 'd': ['9', '5', '6']}\n"
     ]
    }
   ],
   "source": [
    "print(generic_dict_1)"
   ]
  },
  {
   "cell_type": "code",
   "execution_count": null,
   "metadata": {},
   "outputs": [],
   "source": []
  }
 ],
 "metadata": {
  "kernelspec": {
   "display_name": "Python 3.9.12 ('base')",
   "language": "python",
   "name": "python3"
  },
  "language_info": {
   "codemirror_mode": {
    "name": "ipython",
    "version": 3
   },
   "file_extension": ".py",
   "mimetype": "text/x-python",
   "name": "python",
   "nbconvert_exporter": "python",
   "pygments_lexer": "ipython3",
   "version": "3.9.12"
  },
  "orig_nbformat": 4,
  "vscode": {
   "interpreter": {
    "hash": "a6efb1b5c0b24a2e2c6a7775ceb8b8e57e283a2a8ce9c098a6d10d53a2042136"
   }
  }
 },
 "nbformat": 4,
 "nbformat_minor": 2
}
