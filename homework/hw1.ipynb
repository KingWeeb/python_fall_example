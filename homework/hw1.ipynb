{
 "cells": [
  {
   "cell_type": "markdown",
   "metadata": {},
   "source": [
    "Q1  \n",
    "a. define an int, a float, a string, a boolean, a list and a dictionary and assign them to different variables\n",
    "b. print out each variable\n",
    "c. print out the type of each variable\n",
    "d. cast the int into a string and print it out, then concatenate the string with the casted int and print out the result\n",
    "e. cast the float into an int and print it out\n",
    "g. cast the boolean into a float and print it out\n",
    "h. append new items to the end of the list and print it out\n",
    "i. remove the first item of the list and print it out\n",
    "j. remove the last item of the list and print it out\n",
    "k. remove the item at index 2 of the list and print it out\n",
    "l. slice the list and print out the slice\n",
    "m. add new key, value pairs to the dictionary and print it out\n",
    "n. remove a key, value pair from the dictionary by key using `.pop()` and print it out\n",
    "\n",
    "Q2\n",
    "write an if elif else statement that checks if the user is older than 18 and prints \"You are old enough to vote\" if they are older than 18, otherwise print \"You are not old enough to vote\" and if the user is older than 18 and is a student, print \"You are old enough and a student to vote\"\n",
    "\n",
    "\n",
    "Q3 (optional)\n",
    "create a dictionary\n",
    "\n",
    "write an if elif else statement that adds user input key value(each value should be a list or another dictionary) pairs to the dictionary based on certain conditions, if conditions are met then add the pair if not then do not add.\n",
    "\n"
   ]
  }
 ],
 "metadata": {
  "kernelspec": {
   "display_name": "Python 3.9.12 ('base')",
   "language": "python",
   "name": "python3"
  },
  "language_info": {
   "name": "python",
   "version": "3.9.12"
  },
  "orig_nbformat": 4,
  "vscode": {
   "interpreter": {
    "hash": "a6efb1b5c0b24a2e2c6a7775ceb8b8e57e283a2a8ce9c098a6d10d53a2042136"
   }
  }
 },
 "nbformat": 4,
 "nbformat_minor": 2
}
